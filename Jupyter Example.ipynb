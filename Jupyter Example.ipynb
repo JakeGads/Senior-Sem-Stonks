{
 "cells": [
  {
   "cell_type": "markdown",
   "id": "quarterly-moldova",
   "metadata": {},
   "source": [
    "# Example Code Running"
   ]
  },
  {
   "cell_type": "code",
   "execution_count": 1,
   "id": "stupid-cowboy",
   "metadata": {
    "scrolled": true
   },
   "outputs": [
    {
     "name": "stdout",
     "output_type": "stream",
     "text": [
      "Requirement already satisfied: absl-py==0.11.0 in ./env/lib/python3.7/site-packages (from -r mac.pip (line 1)) (0.11.0)\n",
      "Requirement already satisfied: astunparse==1.6.3 in ./env/lib/python3.7/site-packages (from -r mac.pip (line 2)) (1.6.3)\n",
      "Requirement already satisfied: cachetools==4.2.1 in ./env/lib/python3.7/site-packages (from -r mac.pip (line 3)) (4.2.1)\n",
      "Requirement already satisfied: certifi==2020.12.5 in ./env/lib/python3.7/site-packages (from -r mac.pip (line 4)) (2020.12.5)\n",
      "Requirement already satisfied: chardet==4.0.0 in ./env/lib/python3.7/site-packages (from -r mac.pip (line 5)) (4.0.0)\n",
      "Requirement already satisfied: cycler==0.10.0 in ./env/lib/python3.7/site-packages (from -r mac.pip (line 6)) (0.10.0)\n",
      "Requirement already satisfied: flatbuffers==1.12 in ./env/lib/python3.7/site-packages (from -r mac.pip (line 7)) (1.12)\n",
      "Requirement already satisfied: gast==0.3.3 in ./env/lib/python3.7/site-packages (from -r mac.pip (line 8)) (0.3.3)\n",
      "Requirement already satisfied: google-auth==1.25.0 in ./env/lib/python3.7/site-packages (from -r mac.pip (line 9)) (1.25.0)\n",
      "Requirement already satisfied: google-auth-oauthlib==0.4.2 in ./env/lib/python3.7/site-packages (from -r mac.pip (line 10)) (0.4.2)\n",
      "Requirement already satisfied: google-pasta==0.2.0 in ./env/lib/python3.7/site-packages (from -r mac.pip (line 11)) (0.2.0)\n",
      "Requirement already satisfied: grpcio==1.32.0 in ./env/lib/python3.7/site-packages (from -r mac.pip (line 12)) (1.32.0)\n",
      "Requirement already satisfied: h5py==2.10.0 in ./env/lib/python3.7/site-packages (from -r mac.pip (line 13)) (2.10.0)\n",
      "Requirement already satisfied: idna==2.10 in ./env/lib/python3.7/site-packages (from -r mac.pip (line 14)) (2.10)\n",
      "Requirement already satisfied: importlib-metadata==3.4.0 in ./env/lib/python3.7/site-packages (from -r mac.pip (line 15)) (3.4.0)\n",
      "Requirement already satisfied: joblib==1.0.0 in ./env/lib/python3.7/site-packages (from -r mac.pip (line 16)) (1.0.0)\n",
      "Requirement already satisfied: Keras-Preprocessing==1.1.2 in ./env/lib/python3.7/site-packages (from -r mac.pip (line 17)) (1.1.2)\n",
      "Requirement already satisfied: kiwisolver==1.3.1 in ./env/lib/python3.7/site-packages (from -r mac.pip (line 18)) (1.3.1)\n",
      "Requirement already satisfied: lxml==4.6.2 in ./env/lib/python3.7/site-packages (from -r mac.pip (line 19)) (4.6.2)\n",
      "Requirement already satisfied: Markdown==3.3.3 in ./env/lib/python3.7/site-packages (from -r mac.pip (line 20)) (3.3.3)\n",
      "Requirement already satisfied: matplotlib==3.3.4 in ./env/lib/python3.7/site-packages (from -r mac.pip (line 21)) (3.3.4)\n",
      "Requirement already satisfied: numpy==1.19.5 in ./env/lib/python3.7/site-packages (from -r mac.pip (line 22)) (1.19.5)\n",
      "Requirement already satisfied: oauthlib==3.1.0 in ./env/lib/python3.7/site-packages (from -r mac.pip (line 23)) (3.1.0)\n",
      "Requirement already satisfied: opt-einsum==3.3.0 in ./env/lib/python3.7/site-packages (from -r mac.pip (line 24)) (3.3.0)\n",
      "Requirement already satisfied: pandas==1.1.5 in ./env/lib/python3.7/site-packages (from -r mac.pip (line 25)) (1.1.5)\n",
      "Requirement already satisfied: pandas-datareader==0.9.0 in ./env/lib/python3.7/site-packages (from -r mac.pip (line 26)) (0.9.0)\n",
      "Requirement already satisfied: Pillow==8.1.0 in ./env/lib/python3.7/site-packages (from -r mac.pip (line 27)) (8.1.0)\n",
      "Requirement already satisfied: protobuf==3.14.0 in ./env/lib/python3.7/site-packages (from -r mac.pip (line 28)) (3.14.0)\n",
      "Requirement already satisfied: pyasn1==0.4.8 in ./env/lib/python3.7/site-packages (from -r mac.pip (line 29)) (0.4.8)\n",
      "Requirement already satisfied: pyasn1-modules==0.2.8 in ./env/lib/python3.7/site-packages (from -r mac.pip (line 30)) (0.2.8)\n",
      "Requirement already satisfied: pyparsing==2.4.7 in ./env/lib/python3.7/site-packages (from -r mac.pip (line 31)) (2.4.7)\n",
      "Requirement already satisfied: python-dateutil==2.8.1 in ./env/lib/python3.7/site-packages (from -r mac.pip (line 32)) (2.8.1)\n",
      "Requirement already satisfied: pytz==2021.1 in ./env/lib/python3.7/site-packages (from -r mac.pip (line 33)) (2021.1)\n",
      "Requirement already satisfied: requests==2.25.1 in ./env/lib/python3.7/site-packages (from -r mac.pip (line 34)) (2.25.1)\n",
      "Requirement already satisfied: requests-oauthlib==1.3.0 in ./env/lib/python3.7/site-packages (from -r mac.pip (line 35)) (1.3.0)\n",
      "Requirement already satisfied: rsa==4.7 in ./env/lib/python3.7/site-packages (from -r mac.pip (line 36)) (4.7)\n",
      "Requirement already satisfied: scikit-learn==0.24.1 in ./env/lib/python3.7/site-packages (from -r mac.pip (line 37)) (0.24.1)\n",
      "Requirement already satisfied: scipy==1.6.0 in ./env/lib/python3.7/site-packages (from -r mac.pip (line 38)) (1.6.0)\n",
      "Requirement already satisfied: six==1.15.0 in ./env/lib/python3.7/site-packages (from -r mac.pip (line 39)) (1.15.0)\n",
      "Requirement already satisfied: sklearn==0.0 in ./env/lib/python3.7/site-packages (from -r mac.pip (line 40)) (0.0)\n",
      "Requirement already satisfied: tensorboard==2.4.1 in ./env/lib/python3.7/site-packages (from -r mac.pip (line 41)) (2.4.1)\n",
      "Requirement already satisfied: tensorboard-plugin-wit==1.8.0 in ./env/lib/python3.7/site-packages (from -r mac.pip (line 42)) (1.8.0)\n",
      "Requirement already satisfied: tensorflow==2.4.1 in ./env/lib/python3.7/site-packages (from -r mac.pip (line 43)) (2.4.1)\n",
      "Requirement already satisfied: tensorflow-estimator==2.4.0 in ./env/lib/python3.7/site-packages (from -r mac.pip (line 44)) (2.4.0)\n",
      "Requirement already satisfied: termcolor==1.1.0 in ./env/lib/python3.7/site-packages (from -r mac.pip (line 45)) (1.1.0)\n",
      "Requirement already satisfied: threadpoolctl==2.1.0 in ./env/lib/python3.7/site-packages (from -r mac.pip (line 46)) (2.1.0)\n",
      "Requirement already satisfied: typing-extensions==3.7.4.3 in ./env/lib/python3.7/site-packages (from -r mac.pip (line 47)) (3.7.4.3)\n",
      "Requirement already satisfied: urllib3==1.26.3 in ./env/lib/python3.7/site-packages (from -r mac.pip (line 48)) (1.26.3)\n",
      "Requirement already satisfied: Werkzeug==1.0.1 in ./env/lib/python3.7/site-packages (from -r mac.pip (line 49)) (1.0.1)\n",
      "Requirement already satisfied: wrapt==1.12.1 in ./env/lib/python3.7/site-packages (from -r mac.pip (line 50)) (1.12.1)\n",
      "Requirement already satisfied: zipp==3.4.0 in ./env/lib/python3.7/site-packages (from -r mac.pip (line 51)) (3.4.0)\n",
      "Requirement already satisfied: wheel<1.0,>=0.23.0 in ./env/lib/python3.7/site-packages (from astunparse==1.6.3->-r mac.pip (line 2)) (0.36.2)\n",
      "Requirement already satisfied: setuptools>=40.3.0 in ./env/lib/python3.7/site-packages (from google-auth==1.25.0->-r mac.pip (line 9)) (54.2.0)\n",
      "Note: you may need to restart the kernel to use updated packages.\n"
     ]
    }
   ],
   "source": [
    "from platform import system as operating_system\n",
    "# if you run macOS this will install all necessary packages\n",
    "if operating_system() == 'Darwin':\n",
    "    %pip install -r mac.pip\n",
    "if operating_system() == 'Linux':\n",
    "    %pip install -r linux.pip\n",
    "if operating_system() == 'Windows':\n",
    "    %pip install -r windows.pip"
   ]
  },
  {
   "cell_type": "code",
   "execution_count": 2,
   "id": "large-silver",
   "metadata": {},
   "outputs": [],
   "source": [
    "# Imports\n",
    "from pandas_datareader import data as pdr\n",
    "\n",
    "from sklearn.preprocessing import MinMaxScaler\n",
    "\n",
    "import matplotlib.pyplot as plt\n",
    "import pandas as pd\n",
    "import datetime as dt\n",
    "import numpy as np\n",
    "import tensorflow as tf # This code has been tested with TensorFlow 1.6\n",
    "from sklearn.preprocessing import MinMaxScaler\n"
   ]
  },
  {
   "cell_type": "markdown",
   "id": "expressed-incidence",
   "metadata": {},
   "source": [
    "## Getting Dependencies"
   ]
  },
  {
   "cell_type": "markdown",
   "id": "thrown-space",
   "metadata": {},
   "source": [
    "## Setting the stock and length to analysis"
   ]
  },
  {
   "cell_type": "code",
   "execution_count": 3,
   "id": "bright-passenger",
   "metadata": {},
   "outputs": [],
   "source": [
    "import pandas as pd\n",
    "import datetime as dt\n",
    "\n",
    "# expecting a str\n",
    "tag = ['gme']\n",
    "\n",
    "# expecting pd datetimes or regular datetimes as outlined below\n",
    "start_date = pd.to_datetime('2020-01-01')\n",
    "end_date = dt.datetime.today()"
   ]
  },
  {
   "cell_type": "markdown",
   "id": "charming-fabric",
   "metadata": {},
   "source": [
    "## Grabbing the data"
   ]
  },
  {
   "cell_type": "code",
   "execution_count": 4,
   "id": "virtual-baltimore",
   "metadata": {},
   "outputs": [
    {
     "name": "stdout",
     "output_type": "stream",
     "text": [
      "downloading data from yahoo\n",
      "reseting index\n",
      "making a short date string\n",
      "We encountered an error please check that your tag is correct ie \n",
      "tag = [\"gme\"]\n"
     ]
    }
   ],
   "source": [
    "from pandas_datareader import data as pdr\n",
    "import tensorflow as tf # This code has been tested with TensorFlow 1.6\n",
    "\n",
    "df = ''\n",
    "try:\n",
    "    # get it from yahoo\n",
    "    print('downloading data from yahoo')\n",
    "    df = pdr.get_data_yahoo(tag, start=start_date, end=end_date)\n",
    "    # reset the index to remove extra symbols\n",
    "    print('reseting index')\n",
    "    df.reset_index(inplace=True,drop=False)\n",
    "    # create a shorter data string\n",
    "    print('making a short date string')\n",
    "    df['Date_String'] = data['Date'].dt.strftime('%Y-%m-%d') \n",
    "    # drop un needed columns\n",
    "    print('dropping un needed columns')\n",
    "    df = data.drop([\"Adj Close\", \"Volume\"], axis = 1)\n",
    "\n",
    "except :\n",
    "    # if the data is wrong, return a blank one \n",
    "    print('We encountered an error please check that your tag is correct ie \\ntag = [\"gme\"]')"
   ]
  },
  {
   "cell_type": "markdown",
   "id": "identified-uruguay",
   "metadata": {},
   "source": [
    "## Generating the predictive model"
   ]
  },
  {
   "cell_type": "code",
   "execution_count": 5,
   "id": "growing-scale",
   "metadata": {},
   "outputs": [],
   "source": [
    "# pulls out data into seperate df for ease of use\n",
    "high_prices = df.loc[:,'High'].values\n",
    "low_prices = df.loc[:,'Low'].values\n",
    "mid_prices = (high_prices+low_prices)/2.0\n"
   ]
  },
  {
   "cell_type": "code",
   "execution_count": 6,
   "id": "compact-tract",
   "metadata": {},
   "outputs": [],
   "source": [
    "# splits the data into a training and test\n",
    "size = int(len(mid_prices) * (3/4))\n",
    "train_data = mid_prices[:size]\n",
    "test_data = mid_prices[size:]"
   ]
  },
  {
   "cell_type": "markdown",
   "id": "prostate-density",
   "metadata": {},
   "source": [
    "## Min Max Scaler (Test 1)"
   ]
  },
  {
   "cell_type": "code",
   "execution_count": 7,
   "id": "loving-viking",
   "metadata": {},
   "outputs": [],
   "source": [
    "from sklearn.preprocessing import MinMaxScaler\n",
    "\n",
    "# Select model & reshape data\n",
    "scaler = MinMaxScaler()\n",
    "train_data = train_data.reshape(-1,1)\n",
    "test_data = test_data.reshape(-1,1)"
   ]
  },
  {
   "cell_type": "code",
   "execution_count": 8,
   "id": "minute-facing",
   "metadata": {},
   "outputs": [],
   "source": [
    "# Dynamically change smoothing settings based on data size\n",
    "smoothing_window_size = len(mid_prices) - size\n"
   ]
  },
  {
   "cell_type": "code",
   "execution_count": 9,
   "id": "altered-rotation",
   "metadata": {},
   "outputs": [],
   "source": [
    "# fit data into the model\n",
    "for di in range(0, int(size * .9),smoothing_window_size):\n",
    "    scaler.fit(train_data[di:di+smoothing_window_size,:])\n",
    "    train_data[di:di+smoothing_window_size,:] = scaler.transform(train_data[di:di+smoothing_window_size,:])\n"
   ]
  },
  {
   "cell_type": "code",
   "execution_count": 10,
   "id": "foster-winner",
   "metadata": {},
   "outputs": [],
   "source": [
    "# data sometimes needs the last section also normalized\n",
    "try:\n",
    "    scaler.fit(train_data[smoothing_window_size:,:])\n",
    "except :\n",
    "    print('All data already fixed')\n"
   ]
  },
  {
   "cell_type": "code",
   "execution_count": 11,
   "id": "approved-locator",
   "metadata": {},
   "outputs": [],
   "source": [
    "# transofrm data for the scaler\n",
    "try:\n",
    "    train_data[di+smoothing_window_size:,:] = scaler.transform(train_data[di+smoothing_window_size:,:])\n",
    "except :\n",
    "    None"
   ]
  },
  {
   "cell_type": "code",
   "execution_count": 12,
   "id": "olive-pizza",
   "metadata": {},
   "outputs": [],
   "source": [
    "# Reshape both train and test data\n",
    "train_data = train_data.reshape(-1)\n",
    "\n",
    "# Normalize test data\n",
    "test_data = scaler.transform(test_data).reshape(-1)"
   ]
  },
  {
   "cell_type": "code",
   "execution_count": 13,
   "id": "legal-onion",
   "metadata": {},
   "outputs": [],
   "source": [
    "# Exponential Smoothing\n",
    "EMA = 0.0\n",
    "gamma = 0.1\n",
    "\n",
    "for ti in range(size):\n",
    "    EMA = gamma*train_data[ti] + (1-gamma)*EMA\n",
    "    train_data[ti] = EMA"
   ]
  },
  {
   "cell_type": "code",
   "execution_count": 14,
   "id": "dimensional-spoke",
   "metadata": {},
   "outputs": [],
   "source": [
    "# saving here to make visualizations easier later\n",
    "import numpy as np\n",
    "\n",
    "all_mid_data = np.concatenate([train_data,test_data],axis=0)"
   ]
  },
  {
   "cell_type": "markdown",
   "id": "contained-intermediate",
   "metadata": {},
   "source": [
    "## Running Averages"
   ]
  },
  {
   "cell_type": "code",
   "execution_count": 15,
   "id": "related-murray",
   "metadata": {},
   "outputs": [],
   "source": [
    "# Setups\n",
    "\n",
    "window_size = int(size * .1) # sets windows to 1/10 the real size\n",
    "N = train_data.size\n",
    "\n",
    "run_avg_predictions = []\n",
    "run_avg_x = []\n",
    "\n",
    "mse_errors = []\n",
    "\n",
    "running_mean = 0.0\n",
    "run_avg_predictions.append(running_mean)\n",
    "\n",
    "decay = 0.5"
   ]
  },
  {
   "cell_type": "code",
   "execution_count": 16,
   "id": "emotional-pitch",
   "metadata": {},
   "outputs": [],
   "source": [
    "for pred_idx in range(1,N):\n",
    "    if pred_idx >= N: # safe check to see if we mathc\n",
    "        date = dt.datetime.strptime(pred_idx, '%Y-%m-%d').date() + dt.timedelta(days=1)\n",
    "    else: # grabs as nromal\n",
    "        date = df.loc[pred_idx,'Date']\n",
    "\n",
    "    # calcuates the running mean\n",
    "    running_mean = running_mean*decay + (1.0-decay)*train_data[pred_idx-1]\n",
    "    # adds relvant data to its proper location\n",
    "    run_avg_predictions.append(running_mean)\n",
    "    mse_errors.append((run_avg_predictions[-1]-train_data[pred_idx])**2)\n",
    "    run_avg_x.append(date)"
   ]
  },
  {
   "cell_type": "code",
   "execution_count": 17,
   "id": "satellite-platinum",
   "metadata": {
    "scrolled": true
   },
   "outputs": [
    {
     "name": "stdout",
     "output_type": "stream",
     "text": [
      "MSE error for EMA averaging: 0.00056\n"
     ]
    },
    {
     "ename": "KeyError",
     "evalue": "'Date_String'",
     "output_type": "error",
     "traceback": [
      "\u001b[0;31m-------------------------------------------\u001b[0m",
      "\u001b[0;31mKeyError\u001b[0m  Traceback (most recent call last)",
      "\u001b[0;32m~/source/repo/Senior-Sem-Stonks/env/lib/python3.7/site-packages/pandas/core/indexes/base.py\u001b[0m in \u001b[0;36mget_loc\u001b[0;34m(self, key, method, tolerance)\u001b[0m\n\u001b[1;32m   2897\u001b[0m             \u001b[0;32mtry\u001b[0m\u001b[0;34m:\u001b[0m\u001b[0;34m\u001b[0m\u001b[0m\n\u001b[0;32m-> 2898\u001b[0;31m                 \u001b[0;32mreturn\u001b[0m \u001b[0mself\u001b[0m\u001b[0;34m.\u001b[0m\u001b[0m_engine\u001b[0m\u001b[0;34m.\u001b[0m\u001b[0mget_loc\u001b[0m\u001b[0;34m(\u001b[0m\u001b[0mcasted_key\u001b[0m\u001b[0;34m)\u001b[0m\u001b[0;34m\u001b[0m\u001b[0m\n\u001b[0m\u001b[1;32m   2899\u001b[0m             \u001b[0;32mexcept\u001b[0m \u001b[0mKeyError\u001b[0m \u001b[0;32mas\u001b[0m \u001b[0merr\u001b[0m\u001b[0;34m:\u001b[0m\u001b[0;34m\u001b[0m\u001b[0m\n",
      "\u001b[0;32mpandas/_libs/index.pyx\u001b[0m in \u001b[0;36mpandas._libs.index.IndexEngine.get_loc\u001b[0;34m()\u001b[0m\n",
      "\u001b[0;32mpandas/_libs/index.pyx\u001b[0m in \u001b[0;36mpandas._libs.index.IndexEngine.get_loc\u001b[0;34m()\u001b[0m\n",
      "\u001b[0;32mpandas/_libs/hashtable_class_helper.pxi\u001b[0m in \u001b[0;36mpandas._libs.hashtable.PyObjectHashTable.get_item\u001b[0;34m()\u001b[0m\n",
      "\u001b[0;32mpandas/_libs/hashtable_class_helper.pxi\u001b[0m in \u001b[0;36mpandas._libs.hashtable.PyObjectHashTable.get_item\u001b[0;34m()\u001b[0m\n",
      "\u001b[0;31mKeyError\u001b[0m: 'Date_String'",
      "\nThe above exception was the direct cause of the following exception:\n",
      "\u001b[0;31mKeyError\u001b[0m  Traceback (most recent call last)",
      "\u001b[0;32m<ipython-input-17-ff4f03034330>\u001b[0m in \u001b[0;36m<module>\u001b[0;34m\u001b[0m\n\u001b[1;32m      7\u001b[0m \u001b[0mplt\u001b[0m\u001b[0;34m.\u001b[0m\u001b[0mplot\u001b[0m\u001b[0;34m(\u001b[0m\u001b[0mrange\u001b[0m\u001b[0;34m(\u001b[0m\u001b[0mdf\u001b[0m\u001b[0;34m.\u001b[0m\u001b[0mshape\u001b[0m\u001b[0;34m[\u001b[0m\u001b[0;36m0\u001b[0m\u001b[0;34m]\u001b[0m\u001b[0;34m)\u001b[0m\u001b[0;34m,\u001b[0m\u001b[0mall_mid_data\u001b[0m\u001b[0;34m,\u001b[0m\u001b[0mcolor\u001b[0m\u001b[0;34m=\u001b[0m\u001b[0;34m'b'\u001b[0m\u001b[0;34m,\u001b[0m\u001b[0mlabel\u001b[0m\u001b[0;34m=\u001b[0m\u001b[0;34m'True'\u001b[0m\u001b[0;34m)\u001b[0m\u001b[0;34m\u001b[0m\u001b[0m\n\u001b[1;32m      8\u001b[0m \u001b[0mplt\u001b[0m\u001b[0;34m.\u001b[0m\u001b[0mplot\u001b[0m\u001b[0;34m(\u001b[0m\u001b[0mrange\u001b[0m\u001b[0;34m(\u001b[0m\u001b[0;36m0\u001b[0m\u001b[0;34m,\u001b[0m\u001b[0mN\u001b[0m\u001b[0;34m)\u001b[0m\u001b[0;34m,\u001b[0m\u001b[0mrun_avg_predictions\u001b[0m\u001b[0;34m,\u001b[0m\u001b[0mcolor\u001b[0m\u001b[0;34m=\u001b[0m\u001b[0;34m'orange'\u001b[0m\u001b[0;34m,\u001b[0m \u001b[0mlabel\u001b[0m\u001b[0;34m=\u001b[0m\u001b[0;34m'Prediction'\u001b[0m\u001b[0;34m)\u001b[0m\u001b[0;34m\u001b[0m\u001b[0m\n\u001b[0;32m----> 9\u001b[0;31m \u001b[0mplt\u001b[0m\u001b[0;34m.\u001b[0m\u001b[0mxticks\u001b[0m\u001b[0;34m(\u001b[0m\u001b[0mrange\u001b[0m\u001b[0;34m(\u001b[0m\u001b[0;36m0\u001b[0m\u001b[0;34m,\u001b[0m\u001b[0mdf\u001b[0m\u001b[0;34m.\u001b[0m\u001b[0mshape\u001b[0m\u001b[0;34m[\u001b[0m\u001b[0;36m0\u001b[0m\u001b[0;34m]\u001b[0m\u001b[0;34m,\u001b[0m\u001b[0;36m50\u001b[0m\u001b[0;34m)\u001b[0m\u001b[0;34m,\u001b[0m\u001b[0mdf\u001b[0m\u001b[0;34m[\u001b[0m\u001b[0;34m'Date_String'\u001b[0m\u001b[0;34m]\u001b[0m\u001b[0;34m.\u001b[0m\u001b[0mloc\u001b[0m\u001b[0;34m[\u001b[0m\u001b[0;34m:\u001b[0m\u001b[0;34m:\u001b[0m\u001b[0;36m50\u001b[0m\u001b[0;34m]\u001b[0m\u001b[0;34m,\u001b[0m\u001b[0mrotation\u001b[0m\u001b[0;34m=\u001b[0m\u001b[0;36m45\u001b[0m\u001b[0;34m)\u001b[0m\u001b[0;34m\u001b[0m\u001b[0m\n\u001b[0m\u001b[1;32m     10\u001b[0m \u001b[0mplt\u001b[0m\u001b[0;34m.\u001b[0m\u001b[0mxlabel\u001b[0m\u001b[0;34m(\u001b[0m\u001b[0;34m'Date'\u001b[0m\u001b[0;34m)\u001b[0m\u001b[0;34m\u001b[0m\u001b[0m\n\u001b[1;32m     11\u001b[0m \u001b[0mplt\u001b[0m\u001b[0;34m.\u001b[0m\u001b[0mylabel\u001b[0m\u001b[0;34m(\u001b[0m\u001b[0;34m'Mid Price'\u001b[0m\u001b[0;34m)\u001b[0m\u001b[0;34m\u001b[0m\u001b[0m\n",
      "\u001b[0;32m~/source/repo/Senior-Sem-Stonks/env/lib/python3.7/site-packages/pandas/core/frame.py\u001b[0m in \u001b[0;36m__getitem__\u001b[0;34m(self, key)\u001b[0m\n\u001b[1;32m   2903\u001b[0m         \u001b[0;32mif\u001b[0m \u001b[0mis_single_key\u001b[0m\u001b[0;34m:\u001b[0m\u001b[0;34m\u001b[0m\u001b[0m\n\u001b[1;32m   2904\u001b[0m             \u001b[0;32mif\u001b[0m \u001b[0mself\u001b[0m\u001b[0;34m.\u001b[0m\u001b[0mcolumns\u001b[0m\u001b[0;34m.\u001b[0m\u001b[0mnlevels\u001b[0m \u001b[0;34m>\u001b[0m \u001b[0;36m1\u001b[0m\u001b[0;34m:\u001b[0m\u001b[0;34m\u001b[0m\u001b[0m\n\u001b[0;32m-> 2905\u001b[0;31m                 \u001b[0;32mreturn\u001b[0m \u001b[0mself\u001b[0m\u001b[0;34m.\u001b[0m\u001b[0m_getitem_multilevel\u001b[0m\u001b[0;34m(\u001b[0m\u001b[0mkey\u001b[0m\u001b[0;34m)\u001b[0m\u001b[0;34m\u001b[0m\u001b[0m\n\u001b[0m\u001b[1;32m   2906\u001b[0m             \u001b[0mindexer\u001b[0m \u001b[0;34m=\u001b[0m \u001b[0mself\u001b[0m\u001b[0;34m.\u001b[0m\u001b[0mcolumns\u001b[0m\u001b[0;34m.\u001b[0m\u001b[0mget_loc\u001b[0m\u001b[0;34m(\u001b[0m\u001b[0mkey\u001b[0m\u001b[0;34m)\u001b[0m\u001b[0;34m\u001b[0m\u001b[0m\n\u001b[1;32m   2907\u001b[0m             \u001b[0;32mif\u001b[0m \u001b[0mis_integer\u001b[0m\u001b[0;34m(\u001b[0m\u001b[0mindexer\u001b[0m\u001b[0;34m)\u001b[0m\u001b[0;34m:\u001b[0m\u001b[0;34m\u001b[0m\u001b[0m\n",
      "\u001b[0;32m~/source/repo/Senior-Sem-Stonks/env/lib/python3.7/site-packages/pandas/core/frame.py\u001b[0m in \u001b[0;36m_getitem_multilevel\u001b[0;34m(self, key)\u001b[0m\n\u001b[1;32m   2953\u001b[0m     \u001b[0;32mdef\u001b[0m \u001b[0m_getitem_multilevel\u001b[0m\u001b[0;34m(\u001b[0m\u001b[0mself\u001b[0m\u001b[0;34m,\u001b[0m \u001b[0mkey\u001b[0m\u001b[0;34m)\u001b[0m\u001b[0;34m:\u001b[0m\u001b[0;34m\u001b[0m\u001b[0m\n\u001b[1;32m   2954\u001b[0m         \u001b[0;31m# self.columns is a MultiIndex\u001b[0m\u001b[0;34m\u001b[0m\u001b[0;34m\u001b[0m\u001b[0m\n\u001b[0;32m-> 2955\u001b[0;31m         \u001b[0mloc\u001b[0m \u001b[0;34m=\u001b[0m \u001b[0mself\u001b[0m\u001b[0;34m.\u001b[0m\u001b[0mcolumns\u001b[0m\u001b[0;34m.\u001b[0m\u001b[0mget_loc\u001b[0m\u001b[0;34m(\u001b[0m\u001b[0mkey\u001b[0m\u001b[0;34m)\u001b[0m\u001b[0;34m\u001b[0m\u001b[0m\n\u001b[0m\u001b[1;32m   2956\u001b[0m         \u001b[0;32mif\u001b[0m \u001b[0misinstance\u001b[0m\u001b[0;34m(\u001b[0m\u001b[0mloc\u001b[0m\u001b[0;34m,\u001b[0m \u001b[0;34m(\u001b[0m\u001b[0mslice\u001b[0m\u001b[0;34m,\u001b[0m \u001b[0mnp\u001b[0m\u001b[0;34m.\u001b[0m\u001b[0mndarray\u001b[0m\u001b[0;34m)\u001b[0m\u001b[0;34m)\u001b[0m\u001b[0;34m:\u001b[0m\u001b[0;34m\u001b[0m\u001b[0m\n\u001b[1;32m   2957\u001b[0m             \u001b[0mnew_columns\u001b[0m \u001b[0;34m=\u001b[0m \u001b[0mself\u001b[0m\u001b[0;34m.\u001b[0m\u001b[0mcolumns\u001b[0m\u001b[0;34m[\u001b[0m\u001b[0mloc\u001b[0m\u001b[0;34m]\u001b[0m\u001b[0;34m\u001b[0m\u001b[0m\n",
      "\u001b[0;32m~/source/repo/Senior-Sem-Stonks/env/lib/python3.7/site-packages/pandas/core/indexes/multi.py\u001b[0m in \u001b[0;36mget_loc\u001b[0;34m(self, key, method)\u001b[0m\n\u001b[1;32m   2702\u001b[0m \u001b[0;34m\u001b[0m\u001b[0m\n\u001b[1;32m   2703\u001b[0m         \u001b[0;32mif\u001b[0m \u001b[0;32mnot\u001b[0m \u001b[0misinstance\u001b[0m\u001b[0;34m(\u001b[0m\u001b[0mkey\u001b[0m\u001b[0;34m,\u001b[0m \u001b[0mtuple\u001b[0m\u001b[0;34m)\u001b[0m\u001b[0;34m:\u001b[0m\u001b[0;34m\u001b[0m\u001b[0m\n\u001b[0;32m-> 2704\u001b[0;31m             \u001b[0mloc\u001b[0m \u001b[0;34m=\u001b[0m \u001b[0mself\u001b[0m\u001b[0;34m.\u001b[0m\u001b[0m_get_level_indexer\u001b[0m\u001b[0;34m(\u001b[0m\u001b[0mkey\u001b[0m\u001b[0;34m,\u001b[0m \u001b[0mlevel\u001b[0m\u001b[0;34m=\u001b[0m\u001b[0;36m0\u001b[0m\u001b[0;34m)\u001b[0m\u001b[0;34m\u001b[0m\u001b[0m\n\u001b[0m\u001b[1;32m   2705\u001b[0m             \u001b[0;32mreturn\u001b[0m \u001b[0m_maybe_to_slice\u001b[0m\u001b[0;34m(\u001b[0m\u001b[0mloc\u001b[0m\u001b[0;34m)\u001b[0m\u001b[0;34m\u001b[0m\u001b[0m\n\u001b[1;32m   2706\u001b[0m \u001b[0;34m\u001b[0m\u001b[0m\n",
      "\u001b[0;32m~/source/repo/Senior-Sem-Stonks/env/lib/python3.7/site-packages/pandas/core/indexes/multi.py\u001b[0m in \u001b[0;36m_get_level_indexer\u001b[0;34m(self, key, level, indexer)\u001b[0m\n\u001b[1;32m   2967\u001b[0m         \u001b[0;32melse\u001b[0m\u001b[0;34m:\u001b[0m\u001b[0;34m\u001b[0m\u001b[0m\n\u001b[1;32m   2968\u001b[0m \u001b[0;34m\u001b[0m\u001b[0m\n\u001b[0;32m-> 2969\u001b[0;31m             \u001b[0mcode\u001b[0m \u001b[0;34m=\u001b[0m \u001b[0mself\u001b[0m\u001b[0;34m.\u001b[0m\u001b[0m_get_loc_single_level_index\u001b[0m\u001b[0;34m(\u001b[0m\u001b[0mlevel_index\u001b[0m\u001b[0;34m,\u001b[0m \u001b[0mkey\u001b[0m\u001b[0;34m)\u001b[0m\u001b[0;34m\u001b[0m\u001b[0m\n\u001b[0m\u001b[1;32m   2970\u001b[0m \u001b[0;34m\u001b[0m\u001b[0m\n\u001b[1;32m   2971\u001b[0m             \u001b[0;32mif\u001b[0m \u001b[0mlevel\u001b[0m \u001b[0;34m>\u001b[0m \u001b[0;36m0\u001b[0m \u001b[0;32mor\u001b[0m \u001b[0mself\u001b[0m\u001b[0;34m.\u001b[0m\u001b[0mlexsort_depth\u001b[0m \u001b[0;34m==\u001b[0m \u001b[0;36m0\u001b[0m\u001b[0;34m:\u001b[0m\u001b[0;34m\u001b[0m\u001b[0m\n",
      "\u001b[0;32m~/source/repo/Senior-Sem-Stonks/env/lib/python3.7/site-packages/pandas/core/indexes/multi.py\u001b[0m in \u001b[0;36m_get_loc_single_level_index\u001b[0;34m(self, level_index, key)\u001b[0m\n\u001b[1;32m   2635\u001b[0m             \u001b[0;32mreturn\u001b[0m \u001b[0;34m-\u001b[0m\u001b[0;36m1\u001b[0m\u001b[0;34m\u001b[0m\u001b[0m\n\u001b[1;32m   2636\u001b[0m         \u001b[0;32melse\u001b[0m\u001b[0;34m:\u001b[0m\u001b[0;34m\u001b[0m\u001b[0m\n\u001b[0;32m-> 2637\u001b[0;31m             \u001b[0;32mreturn\u001b[0m \u001b[0mlevel_index\u001b[0m\u001b[0;34m.\u001b[0m\u001b[0mget_loc\u001b[0m\u001b[0;34m(\u001b[0m\u001b[0mkey\u001b[0m\u001b[0;34m)\u001b[0m\u001b[0;34m\u001b[0m\u001b[0m\n\u001b[0m\u001b[1;32m   2638\u001b[0m \u001b[0;34m\u001b[0m\u001b[0m\n\u001b[1;32m   2639\u001b[0m     \u001b[0;32mdef\u001b[0m \u001b[0mget_loc\u001b[0m\u001b[0;34m(\u001b[0m\u001b[0mself\u001b[0m\u001b[0;34m,\u001b[0m \u001b[0mkey\u001b[0m\u001b[0;34m,\u001b[0m \u001b[0mmethod\u001b[0m\u001b[0;34m=\u001b[0m\u001b[0;32mNone\u001b[0m\u001b[0;34m)\u001b[0m\u001b[0;34m:\u001b[0m\u001b[0;34m\u001b[0m\u001b[0m\n",
      "\u001b[0;32m~/source/repo/Senior-Sem-Stonks/env/lib/python3.7/site-packages/pandas/core/indexes/base.py\u001b[0m in \u001b[0;36mget_loc\u001b[0;34m(self, key, method, tolerance)\u001b[0m\n\u001b[1;32m   2898\u001b[0m                 \u001b[0;32mreturn\u001b[0m \u001b[0mself\u001b[0m\u001b[0;34m.\u001b[0m\u001b[0m_engine\u001b[0m\u001b[0;34m.\u001b[0m\u001b[0mget_loc\u001b[0m\u001b[0;34m(\u001b[0m\u001b[0mcasted_key\u001b[0m\u001b[0;34m)\u001b[0m\u001b[0;34m\u001b[0m\u001b[0m\n\u001b[1;32m   2899\u001b[0m             \u001b[0;32mexcept\u001b[0m \u001b[0mKeyError\u001b[0m \u001b[0;32mas\u001b[0m \u001b[0merr\u001b[0m\u001b[0;34m:\u001b[0m\u001b[0;34m\u001b[0m\u001b[0m\n\u001b[0;32m-> 2900\u001b[0;31m                 \u001b[0;32mraise\u001b[0m \u001b[0mKeyError\u001b[0m\u001b[0;34m(\u001b[0m\u001b[0mkey\u001b[0m\u001b[0;34m)\u001b[0m \u001b[0;32mfrom\u001b[0m \u001b[0merr\u001b[0m\u001b[0;34m\u001b[0m\u001b[0m\n\u001b[0m\u001b[1;32m   2901\u001b[0m \u001b[0;34m\u001b[0m\u001b[0m\n\u001b[1;32m   2902\u001b[0m         \u001b[0;32mif\u001b[0m \u001b[0mtolerance\u001b[0m \u001b[0;32mis\u001b[0m \u001b[0;32mnot\u001b[0m \u001b[0;32mNone\u001b[0m\u001b[0;34m:\u001b[0m\u001b[0;34m\u001b[0m\u001b[0m\n",
      "\u001b[0;31mKeyError\u001b[0m: 'Date_String'"
     ]
    },
    {
     "data": {
      "image/png": "[encoded data removed]",
      "text/plain": [
       "<Figure size 1008x504 with 1 Axes>"
      ]
     },
     "metadata": {
      "needs_background": "light"
     },
     "output_type": "display_data"
    }
   ],
   "source": [
    "# Report & Plot\n",
    "import matplotlib.pyplot as plt\n",
    "\n",
    "print('MSE error for EMA averaging: %.5f'%(0.5*np.mean(mse_errors)))\n",
    "\n",
    "plt.figure(figsize = (14,7))\n",
    "plt.plot(range(df.shape[0]),all_mid_data,color='b',label='True')\n",
    "plt.plot(range(0,N),run_avg_predictions,color='orange', label='Prediction')\n",
    "try:\n",
    "    plt.xticks(range(0,df.shape[0],50),df['Date_String'].loc[::50],rotation=45)\n",
    "except :\n",
    "    plt.xticks(range(0,df.shape[0],50),df['Date'].loc[::50],rotation=45)\n",
    "plt.xlabel('Date')\n",
    "plt.ylabel('Mid Price')\n",
    "plt.legend(fontsize=12)\n",
    "plt.show()"
   ]
  }
 ],
 "metadata": {
  "kernelspec": {
   "display_name": "Python 3",
   "language": "python",
   "name": "python3"
  },
  "language_info": {
   "codemirror_mode": {
    "name": "ipython",
    "version": 3
   },
   "file_extension": ".py",
   "mimetype": "text/x-python",
   "name": "python",
   "nbconvert_exporter": "python",
   "pygments_lexer": "ipython3",
   "version": "3.7.0"
  }
 },
 "nbformat": 4,
 "nbformat_minor": 5
}